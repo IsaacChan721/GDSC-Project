{
 "cells": [
  {
   "cell_type": "code",
   "execution_count": 1,
   "metadata": {},
   "outputs": [],
   "source": [
    "PROJECT_ID = \"vital-domain-412522\"\n",
    "REGION = \"northamerica-northeast2\""
   ]
  },
  {
   "cell_type": "code",
   "execution_count": 4,
   "metadata": {},
   "outputs": [
    {
     "ename": "ModuleNotFoundError",
     "evalue": "No module named 'pandas'",
     "output_type": "error",
     "traceback": [
      "\u001b[0;31m---------------------------------------------------------------------------\u001b[0m",
      "\u001b[0;31mModuleNotFoundError\u001b[0m                       Traceback (most recent call last)",
      "\u001b[1;32m/home/isaacchan721/GDSC-Project/chatbot.ipynb Cell 2\u001b[0m line \u001b[0;36m1\n\u001b[0;32m----> <a href='vscode-notebook-cell://970-cs-d856f358-cf0d-4f7a-a89c-420e4c676af1.cs-us-east1-vpcf.cloudshell.dev/home/isaacchan721/GDSC-Project/chatbot.ipynb#W1sdnNjb2RlLXJlbW90ZQ%3D%3D?line=0'>1</a>\u001b[0m \u001b[39mimport\u001b[39;00m \u001b[39mpandas\u001b[39;00m \u001b[39mas\u001b[39;00m \u001b[39mpds\u001b[39;00m \n\u001b[1;32m      <a href='vscode-notebook-cell://970-cs-d856f358-cf0d-4f7a-a89c-420e4c676af1.cs-us-east1-vpcf.cloudshell.dev/home/isaacchan721/GDSC-Project/chatbot.ipynb#W1sdnNjb2RlLXJlbW90ZQ%3D%3D?line=1'>2</a>\u001b[0m \u001b[39mimport\u001b[39;00m \u001b[39mvertexai\u001b[39;00m\n\u001b[1;32m      <a href='vscode-notebook-cell://970-cs-d856f358-cf0d-4f7a-a89c-420e4c676af1.cs-us-east1-vpcf.cloudshell.dev/home/isaacchan721/GDSC-Project/chatbot.ipynb#W1sdnNjb2RlLXJlbW90ZQ%3D%3D?line=2'>3</a>\u001b[0m \u001b[39mfrom\u001b[39;00m \u001b[39mvertexai\u001b[39;00m\u001b[39m.\u001b[39;00m\u001b[39mpreview\u001b[39;00m\u001b[39m.\u001b[39;00m\u001b[39mlanguage_models\u001b[39;00m \u001b[39mimport\u001b[39;00m (ChatModel, InputOutputTextPair, TextEmbeddingModel, TextGenerationModel)\n",
      "\u001b[0;31mModuleNotFoundError\u001b[0m: No module named 'pandas'"
     ]
    }
   ],
   "source": [
    "import pandas as pds\n",
    "import vertexai\n",
    "from vertexai.preview.language_models import (ChatModel, InputOutputTextPair, TextEmbeddingModel, TextGenerationModel)"
   ]
  },
  {
   "cell_type": "code",
   "execution_count": null,
   "metadata": {},
   "outputs": [],
   "source": []
  }
 ],
 "metadata": {
  "kernelspec": {
   "display_name": "Python 3",
   "language": "python",
   "name": "python3"
  },
  "language_info": {
   "codemirror_mode": {
    "name": "ipython",
    "version": 3
   },
   "file_extension": ".py",
   "mimetype": "text/x-python",
   "name": "python",
   "nbconvert_exporter": "python",
   "pygments_lexer": "ipython3",
   "version": "3.9.2"
  }
 },
 "nbformat": 4,
 "nbformat_minor": 2
}
