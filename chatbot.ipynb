{
 "cells": [
  {
   "cell_type": "code",
   "execution_count": 99,
   "metadata": {},
   "outputs": [],
   "source": [
    "PROJECT_ID = \"vital-domain-412522\"\n",
    "REGION = \"us-central1\""
   ]
  },
  {
   "cell_type": "code",
   "execution_count": 109,
   "metadata": {},
   "outputs": [
    {
     "name": "stdout",
     "output_type": "stream",
     "text": [
      "['large', 'language', 'model', 'trained', 'Google']\n"
     ]
    }
   ],
   "source": [
    "import vertexai\n",
    "from vertexai.preview.generative_models import GenerativeModel, Part\n",
    "\n",
    "user_input = input(\"Give me something to work with?: \")\n",
    "\n",
    "def generate_text(project_id: str, location: str, user_input, simplify = False) -> str:\n",
    "    # Initialize Vertex AI\n",
    "    vertexai.init(project=project_id, location=location)\n",
    "    # Load the model\n",
    "    multimodal_model = GenerativeModel(\"gemini-pro\")\n",
    "    # Query the model\n",
    "    response = multimodal_model.generate_content(\n",
    "        [\n",
    "            user_input if not simplify\n",
    "            else \"Create a list in python format of words containing the 5 most prominent key words using the following string: \" + user_input\n",
    "        ]\n",
    "    )\n",
    "    return response.text\n",
    "\n",
    "def string_to_list(context:str):\n",
    "    list = []\n",
    "    first_pointer = -1\n",
    "    for i in range(len(context)):\n",
    "        if context[i] == \"'\" or context[i] == '\"':\n",
    "            pointer = i\n",
    "            if first_pointer == -1:\n",
    "                first_pointer = pointer\n",
    "            else: \n",
    "                list.append(context[first_pointer+1:pointer])\n",
    "                first_pointer = -1\n",
    "    return list\n",
    "\n",
    "\n",
    "results = generate_text(PROJECT_ID, REGION, user_input)\n",
    "context = generate_text(PROJECT_ID, REGION, results, True)\n",
    "\n",
    "context = string_to_list(context)\n",
    "print(context)\n"
   ]
  }
 ],
 "metadata": {
  "kernelspec": {
   "display_name": "Python 3",
   "language": "python",
   "name": "python3"
  },
  "language_info": {
   "codemirror_mode": {
    "name": "ipython",
    "version": 3
   },
   "file_extension": ".py",
   "mimetype": "text/x-python",
   "name": "python",
   "nbconvert_exporter": "python",
   "pygments_lexer": "ipython3",
   "version": "3.11.5"
  }
 },
 "nbformat": 4,
 "nbformat_minor": 2
}
